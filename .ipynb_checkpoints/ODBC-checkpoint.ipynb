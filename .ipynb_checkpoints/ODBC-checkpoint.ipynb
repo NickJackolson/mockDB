{
 "cells": [
  {
   "cell_type": "code",
   "execution_count": null,
   "metadata": {},
   "outputs": [],
   "source": [
    "import pyodbc"
   ]
  },
  {
   "cell_type": "code",
   "execution_count": null,
   "metadata": {},
   "outputs": [],
   "source": [
    "def get_driver(db_type):\n",
    "    # ls = [\"ODBC Driver 17 for SQL Server\",\"MySQL ODBC 8.0 ANSI Driver\",\"Driver=SQLite3 ODBC Driver\"]\n",
    "    drivers = [x for x in pyodbc.drivers() if db_tpye in x]\n",
    "    if not drivers:\n",
    "        return None\n",
    "    return \"{\"+drivers[-1]+\"}\""
   ]
  },
  {
   "cell_type": "code",
   "execution_count": null,
   "metadata": {},
   "outputs": [],
   "source": [
    "def read(conn):\n",
    "    cursor = conn.cursor()\n",
    "    cursor.execute(\"select kullanıcı_adi from dbo.MainTable\")\n",
    "    print(cursor)\n",
    "#     for x in cursor:\n",
    "#         print(f\"row={x}\")\n",
    "#         print()"
   ]
  },
  {
   "cell_type": "code",
   "execution_count": null,
   "metadata": {},
   "outputs": [],
   "source": [
    "def check_opt(options):\n",
    "    temp = options.copy()\n",
    "    for element in options:\n",
    "        if temp[element] == \"\":\n",
    "            temp.pop(element)\n",
    "    return temp"
   ]
  },
  {
   "cell_type": "code",
   "execution_count": null,
   "metadata": {},
   "outputs": [],
   "source": [
    "def compose_conn_string(driver,options):\n",
    "    line = [driver]\n",
    "    for key in options:\n",
    "        line.append(key+\"=\"+options[key])\n",
    "    return \";\".join(line)+\";\""
   ]
  },
  {
   "cell_type": "code",
   "execution_count": null,
   "metadata": {},
   "outputs": [],
   "source": [
    "# MS SQL SERVER\n",
    "# conn_string = 'DRIVER={ODBC Driver 17 for SQL Server};SERVER=test;DATABASE=test;UID=user;PWD=password;'\n",
    "\n",
    "# MYSQL\n",
    "# connection_string = (\n",
    "#     'DRIVER=MySQL ODBC 8.0 ANSI Driver;'\n",
    "#     'SERVER=localhost;'\n",
    "#     'DATABASE=mydb;'\n",
    "#     'UID=root;'\n",
    "#     'PWD=mypassword;'\n",
    "#     'charset=utf8mb4;'\n",
    "# )\n",
    "\n",
    "# SQLite\n",
    "# cnxn = pyodbc.connect(\"Driver=SQLite3 ODBC Driver;Database=sqlite.db;\")\n",
    "\n",
    "# Excel\n",
    "# conn_str = (\n",
    "#     r'DRIVER={Microsoft Excel Driver (*.xls, *.xlsx, *.xlsm, *.xlsb)};'\n",
    "#     r'DBQ=C:\\path\\to\\myspreadsheet.xls;'\n",
    "#     )"
   ]
  },
  {
   "cell_type": "code",
   "execution_count": null,
   "metadata": {},
   "outputs": [],
   "source": [
    "# conn = pyodbc.connect(\n",
    "#     \"DRIVER={ODBC Driver 17 for SQL Server};Server=.\\SQLEXPRESS;Database=LogDB;Trusted_Connection=yes;\"\n",
    "# )"
   ]
  },
  {
   "cell_type": "code",
   "execution_count": null,
   "metadata": {},
   "outputs": [],
   "source": [
    "# option_dict = {\"SERVER\":\"\",\"DATABASE\":\"\",\"UID\":\"\",\"PWD\":\"\",\"DBQ\":\"\",\"Trusted_Connection\":\"\",\"CHARSET\":\"\"}"
   ]
  },
  {
   "cell_type": "code",
   "execution_count": 31,
   "metadata": {},
   "outputs": [],
   "source": [
    "# driver_string = \"\"\n",
    "# user = \"DESKTOP-DSUHMDL\\ASUS\"\n",
    "# password = \"\"\n",
    "# server = \".\\SQLEXPRESS\" # ex: 254.127.1.1:80\n",
    "# database = \"LogDB\"\n",
    "\n",
    "# conn_string = \";\".join([\"Driver=\"+driver_string,\"Server=\"+server,\"Database=\"+database,\"Trusted_Connection=yes;\"])\n",
    "# conn = pyodbc.connect(conn_string)"
   ]
  },
  {
   "cell_type": "code",
   "execution_count": null,
   "metadata": {},
   "outputs": [],
   "source": [
    "db_type = \"SQL Server\"\n",
    "opt_dict = {\"SERVER\":\".\\SQLEXPRESS\",\"DATABASE\":\"LogDB\",\"UID\":\"\",\"PWD\":\"\",\"DBQ\":\"\",\"Trusted_Connection\":\"yes\",\"CHARSET\":\"\"}\n",
    "driver = get_driver(db_type)\n",
    "options = check_opt(opt_dict)\n",
    "conn_string = compose_conn_string(driver,options)\n",
    "conn = pyodbc.connect(conn_string)\n",
    "read(conn)"
   ]
  }
 ],
 "metadata": {
  "kernelspec": {
   "display_name": "Python 3",
   "language": "python",
   "name": "python3"
  },
  "language_info": {
   "codemirror_mode": {
    "name": "ipython",
    "version": 3
   },
   "file_extension": ".py",
   "mimetype": "text/x-python",
   "name": "python",
   "nbconvert_exporter": "python",
   "pygments_lexer": "ipython3",
   "version": "3.6.9"
  }
 },
 "nbformat": 4,
 "nbformat_minor": 4
}
