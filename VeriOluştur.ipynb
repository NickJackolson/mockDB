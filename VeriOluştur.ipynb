{
 "cells": [
  {
   "cell_type": "code",
   "execution_count": 1,
   "metadata": {},
   "outputs": [],
   "source": [
    "import csv\n",
    "import numpy as np\n",
    "import os\n",
    "import random\n",
    "import pandas as pd\n",
    "import string\n",
    "import re"
   ]
  },
  {
   "cell_type": "code",
   "execution_count": 2,
   "metadata": {},
   "outputs": [],
   "source": [
    "# id - kullanıcıAdı - Şifre - E-mail - isim - soyisim - kullanıcıTel - kurumadı - kurumAdresi - kurumtel - rol - yetki - veri\n",
    "# sonuç - gönderme_tarihi - sonuç_tarihi"
   ]
  },
  {
   "cell_type": "code",
   "execution_count": 3,
   "metadata": {},
   "outputs": [],
   "source": [
    "# ceo -> yönetici1 -> çalışan1 -> veri\n",
    "#                  -> çalışan2 -> veri\n",
    "    \n",
    "#     -> yönetici2 -> çalışan1 -> veri\n",
    "#                  -> çalışan2 -> veri"
   ]
  },
  {
   "cell_type": "code",
   "execution_count": 4,
   "metadata": {},
   "outputs": [],
   "source": [
    "def kullanıcı_adı(isim,soyisim):\n",
    "    isim = isim.split(\" \")[0]\n",
    "    num = random.randint(1, 150)\n",
    "    kullanıcı_adı = (isim[:random.randint(3,len(isim))]+soyisim[:random.randint(0,len(soyisim))]+str(num))\n",
    "    return kullanıcı_adı"
   ]
  },
  {
   "cell_type": "code",
   "execution_count": 5,
   "metadata": {},
   "outputs": [],
   "source": [
    "def şifre():\n",
    "    lower_upper_alphabet = string.ascii_letters\n",
    "    temp = []\n",
    "    şifre = \"\"\n",
    "    for i in range(0,8):\n",
    "        temp.append(random.choice(lower_upper_alphabet))\n",
    "    return şifre.join(temp)"
   ]
  },
  {
   "cell_type": "code",
   "execution_count": 6,
   "metadata": {},
   "outputs": [],
   "source": [
    "def e_mail(isim):\n",
    "    isim = re.sub(\" \",\"_\",isim)\n",
    "    mail_seç = [\"gmail\",\"outlook\",\"hotmail\"]\n",
    "    num = random.randint(60, 98)\n",
    "    e_mail_adresi = (isim+str(num)+\"@\"+random.choice(mail_seç)+\".com\").lower()\n",
    "    return e_mail_adresi"
   ]
  },
  {
   "cell_type": "code",
   "execution_count": 7,
   "metadata": {},
   "outputs": [],
   "source": [
    "def kurum_adı_adresi_telefonu(kurum_listesi,adres_listesi,adet):\n",
    "    eşleşme = zip(kurum_listesi[:adet],adres_listesi[:adet],[sabit_no() for i in range(0,adet)])\n",
    "    return list(eşleşme)"
   ]
  },
  {
   "cell_type": "code",
   "execution_count": 8,
   "metadata": {},
   "outputs": [],
   "source": [
    "def isim_soyisim(isim_listesi,soyisim_listesi):\n",
    "    isim_soyisim_listesi = []\n",
    "    i = 0\n",
    "    for isim,soyisim in zip(isim_listesi,soyisim_listesi):\n",
    "        isim_soyisim_listesi.append((isim,soyisim))\n",
    "        if i == 120:\n",
    "            break\n",
    "        i += 1\n",
    "    return isim_soyisim_listesi"
   ]
  },
  {
   "cell_type": "code",
   "execution_count": 9,
   "metadata": {},
   "outputs": [],
   "source": [
    "def sabit_no():\n",
    "    num = random.randint(1000000,9999999)\n",
    "    sabit_no = (str(num))\n",
    "    return sabit_no"
   ]
  },
  {
   "cell_type": "code",
   "execution_count": 10,
   "metadata": {},
   "outputs": [],
   "source": [
    "def tel_no(adet):\n",
    "    tel_no_listesi = []\n",
    "    for i in range(0,adet):\n",
    "        num = random.randint(5000000000, 5599999999)\n",
    "        tel_no_listesi.append(str(num))\n",
    "    return tel_no_listesi"
   ]
  },
  {
   "cell_type": "code",
   "execution_count": 11,
   "metadata": {},
   "outputs": [],
   "source": [
    "def yetki(adet,admin_adeti):\n",
    "    yetki_listesi = np.zeros(adet,dtype=np.int8)\n",
    "    yetki_listesi[0:admin_adeti] = 1\n",
    "    return yetki_listesi"
   ]
  },
  {
   "cell_type": "code",
   "execution_count": 12,
   "metadata": {},
   "outputs": [],
   "source": [
    "def dosya_oku(dosya_adı):\n",
    "    with open(dosya_adı,encoding=\"UTF-8\") as dosya:\n",
    "        liste = dosya.read()\n",
    "    liste = liste.split(\"\\n\")\n",
    "    liste = [eleman for eleman in liste if eleman != '']\n",
    "    return liste"
   ]
  },
  {
   "cell_type": "code",
   "execution_count": 33,
   "metadata": {},
   "outputs": [],
   "source": [
    "isim_listesi = dosya_oku(\"isim_listesi.txt\")\n",
    "soyisim_listesi = dosya_oku(\"soyisim.txt\")\n",
    "kurumlar_listesi = dosya_oku(\"kurumlar.txt\")\n",
    "adresler_listesi = dosya_oku(\"adresler.txt\")\n",
    "adresler_listesi = [ x+y for x,y in zip(adresler_listesi[0::2], adresler_listesi[1::2]) ]\n",
    "adres_listesi = []\n",
    "for adres in adresler_listesi:\n",
    "    adres_listesi.append(adres.replace(\",\", \"\"))\n",
    "tarih_listesi = dosya_oku(\"tarihler.txt\")"
   ]
  },
  {
   "cell_type": "code",
   "execution_count": 34,
   "metadata": {},
   "outputs": [],
   "source": [
    "kullanıcı_adı_listesi = [kullanıcı_adı(isim,soyisim) for isim,soyisim in zip(isim_listesi,soyisim_listesi)]\n",
    "\n",
    "şifre_listesi = [şifre() for i in range(0,120)]\n",
    "\n",
    "e_mail_listesi = [e_mail(isim) for isim in isim_listesi]\n",
    "\n",
    "tel_no_listesi = tel_no(120)"
   ]
  },
  {
   "cell_type": "code",
   "execution_count": 40,
   "metadata": {},
   "outputs": [],
   "source": [
    "kurum_adı_adr_tel = kurum_adı_adresi_telefonu(kurumlar_listesi,adres_listesi,120)"
   ]
  },
  {
   "cell_type": "code",
   "execution_count": 41,
   "metadata": {},
   "outputs": [],
   "source": [
    "kurum_adı_adr_tel = np.asarray(list(map(list, kurum_adı_adr_tel)))"
   ]
  },
  {
   "cell_type": "code",
   "execution_count": 43,
   "metadata": {
    "scrolled": false
   },
   "outputs": [],
   "source": [
    "while kurum_adı_adr_tel.shape[0] < 120:\n",
    "    kurum_adı_adr_tel = np.vstack([kurum_adı_adr_tel[random.randint(0, len(kurum_adı_adr_tel)-1)],kurum_adı_adr_tel])"
   ]
  },
  {
   "cell_type": "code",
   "execution_count": 44,
   "metadata": {},
   "outputs": [],
   "source": [
    "yetki_listesi = yetki(120,2)"
   ]
  },
  {
   "cell_type": "code",
   "execution_count": 52,
   "metadata": {},
   "outputs": [
    {
     "data": {
      "text/plain": [
       "array([1, 1, 0, 0, 0, 0, 0, 0, 0, 0], dtype=int8)"
      ]
     },
     "execution_count": 52,
     "metadata": {},
     "output_type": "execute_result"
    }
   ],
   "source": [
    "yetki_listesi[:10]"
   ]
  },
  {
   "cell_type": "code",
   "execution_count": 45,
   "metadata": {},
   "outputs": [],
   "source": [
    "#boş sütunlar\n",
    "rol = [None for i in range(0,120)]\n",
    "veri = [None for i in range(0,120)]\n",
    "sonuç = [None for i in range(0,120)]\n",
    "sonuç_tarihi = [None for i in range(0,120)]"
   ]
  },
  {
   "cell_type": "code",
   "execution_count": 46,
   "metadata": {},
   "outputs": [],
   "source": [
    "db_dict = {\"id\":np.arange(0,120), \"kullanıcıAdı\":kullanıcı_adı_listesi[0:120], \"şifre\":şifre_listesi[0:120],\n",
    "                  \"email\":e_mail_listesi[0:120], \"isim\":isim_listesi[0:120], \"soyisim\":soyisim_listesi[0:120] ,\n",
    "                  \"kullanıcıTel\":tel_no_listesi , \"kurumAdı\": kurum_adı_adr_tel[:,0], \"kurumAdresi\":kurum_adı_adr_tel[:,1],\n",
    "                  \"kurumTel\":kurum_adı_adr_tel[:,2] ,\"rol\":rol, \"yetki\":yetki_listesi, \"veri\":veri,\n",
    "                  \"sonuç\":sonuç, \"göndermeTarihi\":tarih_listesi,\"sonuçTarihi\":sonuç_tarihi}"
   ]
  },
  {
   "cell_type": "code",
   "execution_count": 36,
   "metadata": {},
   "outputs": [],
   "source": [
    "db = pd.DataFrame(data=db_dict)\n",
    "db = db.set_index(\"id\")"
   ]
  },
  {
   "cell_type": "code",
   "execution_count": 40,
   "metadata": {},
   "outputs": [
    {
     "data": {
      "text/html": [
       "<div>\n",
       "<style scoped>\n",
       "    .dataframe tbody tr th:only-of-type {\n",
       "        vertical-align: middle;\n",
       "    }\n",
       "\n",
       "    .dataframe tbody tr th {\n",
       "        vertical-align: top;\n",
       "    }\n",
       "\n",
       "    .dataframe thead th {\n",
       "        text-align: right;\n",
       "    }\n",
       "</style>\n",
       "<table border=\"1\" class=\"dataframe\">\n",
       "  <thead>\n",
       "    <tr style=\"text-align: right;\">\n",
       "      <th></th>\n",
       "      <th>kullanıcıAdı</th>\n",
       "      <th>şifre</th>\n",
       "      <th>email</th>\n",
       "      <th>isim</th>\n",
       "      <th>soyisim</th>\n",
       "      <th>kullanıcıTel</th>\n",
       "      <th>kurumAdı</th>\n",
       "      <th>kurumAdresi</th>\n",
       "      <th>kurumTel</th>\n",
       "      <th>rol</th>\n",
       "      <th>yetki</th>\n",
       "      <th>veri</th>\n",
       "      <th>sonuç</th>\n",
       "      <th>göndermeTarihi</th>\n",
       "      <th>sonuçTarihi</th>\n",
       "    </tr>\n",
       "    <tr>\n",
       "      <th>id</th>\n",
       "      <th></th>\n",
       "      <th></th>\n",
       "      <th></th>\n",
       "      <th></th>\n",
       "      <th></th>\n",
       "      <th></th>\n",
       "      <th></th>\n",
       "      <th></th>\n",
       "      <th></th>\n",
       "      <th></th>\n",
       "      <th></th>\n",
       "      <th></th>\n",
       "      <th></th>\n",
       "      <th></th>\n",
       "      <th></th>\n",
       "    </tr>\n",
       "  </thead>\n",
       "  <tbody>\n",
       "    <tr>\n",
       "      <th>14</th>\n",
       "      <td>FERDAKB102</td>\n",
       "      <td>ybCdTRJE</td>\n",
       "      <td>ferdi̇86@hotmail.com</td>\n",
       "      <td>FERDİ</td>\n",
       "      <td>AKBULUT</td>\n",
       "      <td>5087496103</td>\n",
       "      <td>Çalışma ve Sosyal Güvenlik Bakanlığı</td>\n",
       "      <td>975 Devon St.Hopewell Junction NY 12533</td>\n",
       "      <td>8790142</td>\n",
       "      <td>None</td>\n",
       "      <td>0</td>\n",
       "      <td>None</td>\n",
       "      <td>None</td>\n",
       "      <td>2020-03-25 05:39:24</td>\n",
       "      <td>None</td>\n",
       "    </tr>\n",
       "    <tr>\n",
       "      <th>15</th>\n",
       "      <td>REYORHON91</td>\n",
       "      <td>BtYknDjj</td>\n",
       "      <td>reyhan70@gmail.com</td>\n",
       "      <td>REYHAN</td>\n",
       "      <td>ORHON</td>\n",
       "      <td>5038764707</td>\n",
       "      <td>Çevre ve Şehircilik Bakanlığı</td>\n",
       "      <td>27 Westminster DriveFramingham MA 01701</td>\n",
       "      <td>2345939</td>\n",
       "      <td>None</td>\n",
       "      <td>0</td>\n",
       "      <td>None</td>\n",
       "      <td>None</td>\n",
       "      <td>2019-09-11 20:30:55</td>\n",
       "      <td>None</td>\n",
       "    </tr>\n",
       "    <tr>\n",
       "      <th>16</th>\n",
       "      <td>İLHANU107</td>\n",
       "      <td>hELQnScW</td>\n",
       "      <td>i̇lhan61@outlook.com</td>\n",
       "      <td>İLHAN</td>\n",
       "      <td>UZ</td>\n",
       "      <td>5479594561</td>\n",
       "      <td>Rekabet Kurumu</td>\n",
       "      <td>83 Westport St.Coachella CA 92236</td>\n",
       "      <td>3414389</td>\n",
       "      <td>None</td>\n",
       "      <td>0</td>\n",
       "      <td>None</td>\n",
       "      <td>None</td>\n",
       "      <td>2019-01-24 12:35:00</td>\n",
       "      <td>None</td>\n",
       "    </tr>\n",
       "    <tr>\n",
       "      <th>17</th>\n",
       "      <td>GÜLŞAYAVU98</td>\n",
       "      <td>DCxXAlxw</td>\n",
       "      <td>gülşah95@gmail.com</td>\n",
       "      <td>GÜLŞAH</td>\n",
       "      <td>YAVUZ</td>\n",
       "      <td>5032428196</td>\n",
       "      <td>Maliye Bakanlığı</td>\n",
       "      <td>453 1st St.New Windsor NY 12553</td>\n",
       "      <td>4543608</td>\n",
       "      <td>None</td>\n",
       "      <td>0</td>\n",
       "      <td>None</td>\n",
       "      <td>None</td>\n",
       "      <td>2019-07-15 13:20:15</td>\n",
       "      <td>None</td>\n",
       "    </tr>\n",
       "  </tbody>\n",
       "</table>\n",
       "</div>"
      ],
      "text/plain": [
       "   kullanıcıAdı     şifre                 email    isim  soyisim kullanıcıTel  \\\n",
       "id                                                                              \n",
       "14   FERDAKB102  ybCdTRJE  ferdi̇86@hotmail.com   FERDİ  AKBULUT   5087496103   \n",
       "15   REYORHON91  BtYknDjj    reyhan70@gmail.com  REYHAN    ORHON   5038764707   \n",
       "16    İLHANU107  hELQnScW  i̇lhan61@outlook.com   İLHAN       UZ   5479594561   \n",
       "17  GÜLŞAYAVU98  DCxXAlxw    gülşah95@gmail.com  GÜLŞAH    YAVUZ   5032428196   \n",
       "\n",
       "                                kurumAdı  \\\n",
       "id                                         \n",
       "14  Çalışma ve Sosyal Güvenlik Bakanlığı   \n",
       "15         Çevre ve Şehircilik Bakanlığı   \n",
       "16                        Rekabet Kurumu   \n",
       "17                      Maliye Bakanlığı   \n",
       "\n",
       "                                kurumAdresi kurumTel   rol  yetki  veri sonuç  \\\n",
       "id                                                                              \n",
       "14  975 Devon St.Hopewell Junction NY 12533  8790142  None      0  None  None   \n",
       "15  27 Westminster DriveFramingham MA 01701  2345939  None      0  None  None   \n",
       "16        83 Westport St.Coachella CA 92236  3414389  None      0  None  None   \n",
       "17          453 1st St.New Windsor NY 12553  4543608  None      0  None  None   \n",
       "\n",
       "         göndermeTarihi sonuçTarihi  \n",
       "id                                   \n",
       "14  2020-03-25 05:39:24        None  \n",
       "15  2019-09-11 20:30:55        None  \n",
       "16  2019-01-24 12:35:00        None  \n",
       "17  2019-07-15 13:20:15        None  "
      ]
     },
     "execution_count": 40,
     "metadata": {},
     "output_type": "execute_result"
    }
   ],
   "source": [
    "db[14:18]"
   ]
  },
  {
   "cell_type": "code",
   "execution_count": 43,
   "metadata": {},
   "outputs": [],
   "source": [
    "db.to_csv(r'IndexDummyData.csv', index = True, encoding = 'utf-16')"
   ]
  },
  {
   "cell_type": "code",
   "execution_count": null,
   "metadata": {},
   "outputs": [],
   "source": [
    "rol"
   ]
  },
  {
   "cell_type": "code",
   "execution_count": null,
   "metadata": {},
   "outputs": [],
   "source": []
  }
 ],
 "metadata": {
  "kernelspec": {
   "display_name": "Python 3",
   "language": "python",
   "name": "python3"
  },
  "language_info": {
   "codemirror_mode": {
    "name": "ipython",
    "version": 3
   },
   "file_extension": ".py",
   "mimetype": "text/x-python",
   "name": "python",
   "nbconvert_exporter": "python",
   "pygments_lexer": "ipython3",
   "version": "3.6.9"
  }
 },
 "nbformat": 4,
 "nbformat_minor": 4
}
